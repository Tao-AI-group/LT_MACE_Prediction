{
 "cells": [
  {
   "cell_type": "code",
   "execution_count": null,
   "id": "b5da889c-f1f6-4cbf-ad4d-38ab80a77d36",
   "metadata": {},
   "outputs": [],
   "source": [
    "# Import libraries\n",
    "\n",
    "import pandas as pd\n",
    "import numpy as np\n",
    "from datetime import datetime as dt\n",
    "import pickle"
   ]
  },
  {
   "cell_type": "markdown",
   "id": "b40791e2-fdb9-4e3f-9552-f583701fd367",
   "metadata": {
    "tags": []
   },
   "source": [
    "# Preparing labels patient data"
   ]
  },
  {
   "cell_type": "code",
   "execution_count": null,
   "id": "55bbe1bb-7d12-464b-ad9b-57c8832c0d58",
   "metadata": {},
   "outputs": [],
   "source": [
    "# Paths\n",
    "\n",
    "in_path = '/ctao_shared_data/Liver_optum/outputs/'\n",
    "ot_path = '../../Data/'"
   ]
  },
  {
   "cell_type": "code",
   "execution_count": null,
   "id": "ea7f69e5-6016-4029-9c42-48be4ff6aa7d",
   "metadata": {},
   "outputs": [],
   "source": [
    "# Load labels file which contains patient information : each row represents one patient\n",
    "df_original = pd.read_csv(in_path + 'label.csv')\n",
    "\n",
    "# Print total number of patients\n",
    "print(\"Total number of patients \", len (df_original)) "
   ]
  },
  {
   "cell_type": "code",
   "execution_count": null,
   "id": "c206701c-6989-402a-b2e3-8ce89b0f0544",
   "metadata": {},
   "outputs": [],
   "source": [
    "# Filtering patients younger than 18 years at the index date (LT procedure)\n",
    "age_filtered= df_original[df_original['age_at_index']>=18]"
   ]
  },
  {
   "cell_type": "code",
   "execution_count": null,
   "id": "75f7156e-6778-474b-991b-c7a64572fb39",
   "metadata": {},
   "outputs": [],
   "source": [
    "# Include only patients identified as Males or Females\n",
    "age_filtered = age_filtered[(age_filtered['gdr_cd'] == 'M') | (age_filtered['gdr_cd'] == 'F')]"
   ]
  },
  {
   "cell_type": "code",
   "execution_count": null,
   "id": "fe5fcca9",
   "metadata": {},
   "outputs": [],
   "source": [
    "# Add day gap between Index date and MACE date\n",
    "mace_date = []\n",
    "for i in age_filtered.first_lowest:\n",
    "    if i == '0':\n",
    "        mace_date.append(pd.to_datetime(20000101, format='%Y%m%d'))\n",
    "    else:\n",
    "        mace_date.append(i)\n",
    "age_filtered['event_date'] = mace_date\n",
    "\n",
    "age_filtered['index_day'] = pd.to_datetime(age_filtered['index_day'])\n",
    "age_filtered['index_MACE_gap'] = (age_filtered['event_date'] - age_filtered['index_day']).dt.days"
   ]
  },
  {
   "cell_type": "code",
   "execution_count": null,
   "id": "579a7d1f",
   "metadata": {},
   "outputs": [],
   "source": [
    "# Add interval labeling\n",
    "age_filtered = age_filtered.copy()\n",
    "age_filtered['0-30-label'] = np.where((age_filtered['index_MACE_gap'] <=30) & (age_filtered['index_MACE_gap'] >=0), 1,0)\n",
    "age_filtered['0-365-label'] = np.where((age_filtered['index_MACE_gap'] <=365) & (age_filtered['index_MACE_gap']>=0), 1,0)\n",
    "age_filtered['0-1095-label'] = np.where((age_filtered['index_MACE_gap'] <=1095) & (age_filtered['index_MACE_gap']>=0), 1,0)\n",
    "age_filtered['0-1825-label'] = np.where((age_filtered['index_MACE_gap'] <=1825) & (age_filtered['index_MACE_gap']>=0), 1,0)"
   ]
  },
  {
   "cell_type": "markdown",
   "id": "5b8bab24",
   "metadata": {},
   "source": [
    "# Grouping claims into encounters"
   ]
  },
  {
   "cell_type": "code",
   "execution_count": null,
   "id": "d92f3965",
   "metadata": {},
   "outputs": [],
   "source": [
    "cl = ['patid','fst_dt']\n",
    "\n",
    "df1 = pd.read_csv(in_path + 'final_diag_all.csv' , delimiter = '\\t', low_memory = False, usecols=cl)\n",
    "df2 = pd.read_csv(in_path + 'final_drug_all.csv', delimiter = ',', low_memory = False, usecols=cl)\n",
    "df3 = pd.read_csv(in_path + 'final_proc_all.csv', delimiter = '\\t', low_memory = False, usecols=cl)\n",
    "\n",
    "\n",
    "df_concat = pd.concat([df1, df2, df3], axis=0)\n",
    "clm_df  = df_concat.drop_duplicates()\n",
    "clm_df['encounter_id']=clm_df.patid.astype(str)+'_'+clm_df.fst_dt.astype(str)\n",
    "clm_df = clm_df[['encounter_id', 'patid', 'fst_dt']]"
   ]
  },
  {
   "cell_type": "markdown",
   "id": "b2df1c35",
   "metadata": {},
   "source": [
    "# Merging labeled patients with Encounters"
   ]
  },
  {
   "cell_type": "code",
   "execution_count": null,
   "id": "3d12b3f5",
   "metadata": {},
   "outputs": [],
   "source": [
    "patients_encounters = clm_df.merge(age_filtered)\n",
    "patients_encounters\n",
    "\n",
    "\n",
    "df = patients_encounters.copy()\n",
    "df['stroke_label'] = np.where((df['stroke_index_day'] != '0') & (df['stroke_index_day'] <= df['fst_dt']), 1,0)\n",
    "df['cardiac_arrest_label'] = np.where((df['cardiac_arrest_index_day'] != '0') & (df['cardiac_arrest_index_day'] <= df['fst_dt']), 1,0)\n",
    "df['heart_failure_label'] = np.where((df['heart_failure_index_day'] != '0') & (df['heart_failure_index_day'] <= df['fst_dt']), 1,0)\n",
    "df['pulmonary_embolism_label'] = np.where((df['pulmonary_embolism_index_day'] != '0') & (df['pulmonary_embolism_index_day'] <= df['fst_dt']), 1,0)\n",
    "df['atrial_fibrillation_label'] = np.where((df['atrial_fibrillation_index_day'] != '0') & (df['atrial_fibrillation_index_day'] <= df['fst_dt']), 1,0)\n",
    "df['Myocardial_Infarction_label'] = np.where((df['Myocardial_Infarction_index_day'] != '0') & (df['Myocardial_Infarction_index_day'] <= df['fst_dt']), 1,0)\n",
    "\n",
    "cl = ['encounter_id', 'patid', 'fst_dt', 'index_day', 'stroke_label', 'cardiac_arrest_label', 'heart_failure_label', \n",
    "      'pulmonary_embolism_label', 'atrial_fibrillation_label',\n",
    "       'Myocardial_Infarction_label', 'mixed','first_lowest','yrdob', 'gdr_cd' , 'age_at_index',\n",
    "       '0-30-label', '0-365-label','0-1095-label',  '0-1825-label']\n",
    "patients_encounters = df[cl]\n",
    "\n",
    "# Adding day gap for each encounter\n",
    "patients_encounters['day_gap'] = (pd.to_datetime(patients_encounters['fst_dt'])- pd.to_datetime(patients_encounters['index_day'])).dt.days\n",
    "\n",
    "# Adding age at each encounter\n",
    "patients_encounters['age_at_encounter'] = pd.to_datetime(patients_encounters['fst_dt']).dt.year-patients_encounters['yrdob']"
   ]
  },
  {
   "cell_type": "markdown",
   "id": "5a336465",
   "metadata": {},
   "source": [
    "# Aggregating encounters data every 15 days"
   ]
  },
  {
   "cell_type": "code",
   "execution_count": null,
   "id": "e8fa6987",
   "metadata": {},
   "outputs": [],
   "source": [
    "bins = list(range(-30015, 30000,15))\n",
    "labels = list(range(-30000,30000,15))\n",
    "patients_encounters['binned'] = pd.cut(patients_encounters['day_gap'],  bins=bins, labels=labels)\n",
    "patients_encounters['agg_date'] = pd.to_datetime(patients_encounters['index_day']) + pd.to_timedelta( patients_encounters['binned'].astype('int'), unit='d')\n",
    "# Save final encounters file\n",
    "patients_encounters.to_csv(ot_path + \"patients_encounters_15_New.csv\", index=False)"
   ]
  }
 ],
 "metadata": {
  "kernelspec": {
   "display_name": "Python 3.9.16 ('pytorch_env')",
   "language": "python",
   "name": "python3"
  },
  "language_info": {
   "codemirror_mode": {
    "name": "ipython",
    "version": 3
   },
   "file_extension": ".py",
   "mimetype": "text/x-python",
   "name": "python",
   "nbconvert_exporter": "python",
   "pygments_lexer": "ipython3",
   "version": "3.9.16"
  },
  "vscode": {
   "interpreter": {
    "hash": "e0cf8167c65af4f234d6de070fb235c8ad0cb68774ad0f42b9c4f4ad911cdddd"
   }
  }
 },
 "nbformat": 4,
 "nbformat_minor": 5
}
