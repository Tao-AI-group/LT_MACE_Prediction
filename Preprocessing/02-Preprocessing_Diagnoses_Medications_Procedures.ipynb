{
 "cells": [
  {
   "cell_type": "code",
   "execution_count": 16,
   "metadata": {},
   "outputs": [],
   "source": [
    "# Import libraries\n",
    "\n",
    "import pandas as pd\n",
    "import numpy as np\n",
    "from datetime import datetime as dt\n",
    "import pickle"
   ]
  },
  {
   "cell_type": "code",
   "execution_count": 17,
   "metadata": {},
   "outputs": [],
   "source": [
    "# Paths\n",
    "\n",
    "in_path = '/ctao_shared_data/Liver_optum/outputs/'\n",
    "ot_path = '../../Data/'"
   ]
  },
  {
   "cell_type": "markdown",
   "metadata": {},
   "source": [
    "# Diagnoses"
   ]
  },
  {
   "cell_type": "code",
   "execution_count": 18,
   "metadata": {},
   "outputs": [],
   "source": [
    "# Load diagnosis file : this file contains patient_id, claim_date, diagnosis code and ICD code flag\n",
    "f = \"final_diag_all\"\n",
    "diagnosis = pd.read_csv(in_path+f+'.csv', delimiter = '\\t', low_memory = False)"
   ]
  },
  {
   "cell_type": "code",
   "execution_count": 19,
   "metadata": {},
   "outputs": [],
   "source": [
    "diagnosis['encounter_id'] = diagnosis.patid.astype(str)+'_'+diagnosis.fst_dt.astype(str)\n",
    "diagnosis['modified_diag'] = np.where((diagnosis['icd_flag']==10), 'D_10_' + diagnosis['diag'].replace('.', ''), 'D_9_' + diagnosis['diag'].replace('.', ''))"
   ]
  },
  {
   "cell_type": "code",
   "execution_count": 22,
   "metadata": {},
   "outputs": [],
   "source": [
    "cl = ['patid', 'encounter_id', 'modified_diag']\n",
    "diagnosis = diagnosis[cl]\n",
    "diagnosis.to_csv(ot_path+'mod_diagnosis.csv',index=False)"
   ]
  },
  {
   "cell_type": "markdown",
   "metadata": {},
   "source": [
    "# Medications"
   ]
  },
  {
   "cell_type": "code",
   "execution_count": 23,
   "metadata": {},
   "outputs": [],
   "source": [
    "# Load drugs file\n",
    "f ='final_drug_all'\n",
    "drug = pd.read_csv(in_path+f+'.csv', low_memory = False)"
   ]
  },
  {
   "cell_type": "code",
   "execution_count": 26,
   "metadata": {},
   "outputs": [],
   "source": [
    "# Load the NDC (National Drug Code) data from a tab-delimited file\n",
    "ndc = pd.read_csv(in_path + 'lu_ndc.csv', delimiter = '\\t', header=1, low_memory=False)\n",
    "\n",
    "# Select only the relevant columns: 'NDC' (National Drug Code) and 'GNRC_NM' (Generic Name)\n",
    "ndc = ndc.loc[ndc.AHFSCLSS!='UNK']\n",
    "ndc = ndc[['NDC','GNRC_NM']].drop_duplicates().reset_index(drop=True)\n",
    "ndc = ndc.dropna()"
   ]
  },
  {
   "cell_type": "code",
   "execution_count": 27,
   "metadata": {},
   "outputs": [],
   "source": [
    "# Maping NDC to generic Names\n",
    "ndc_gnrc_nm = dict(zip(ndc['NDC'], ndc['GNRC_NM'])) \n",
    "\n",
    "gnrc_nm_list = []\n",
    "for ndc in drug['ndc']:\n",
    "    if ndc in ndc_gnrc_nm:\n",
    "        gnrc_nm_list.append(ndc_gnrc_nm[ndc])\n",
    "    else:\n",
    "        gnrc_nm_list.append(np.nan)\n",
    "drug['gnrc_nm']= gnrc_nm_list\n",
    "drug = drug.dropna()"
   ]
  },
  {
   "cell_type": "code",
   "execution_count": 28,
   "metadata": {},
   "outputs": [],
   "source": [
    "# Save final mapped medications file\n",
    "drug['encounter_id'] = drug.patid.astype(str)+'_'+drug.fst_dt.astype(str)\n",
    "mod_gen_drug_list = []\n",
    "for gnrc_nm in drug.gnrc_nm:\n",
    "    modified_name = 'M_' + gnrc_nm.lower().replace('.', '')\n",
    "    mod_gen_drug_list.append(modified_name)\n",
    "drug['mod_gen_drug'] = mod_gen_drug_list\n",
    "\n",
    "\n",
    "cl = ['patid', 'encounter_id', 'mod_gen_drug']\n",
    "drug = drug[cl]\n",
    "drug.to_csv(ot_path+'mod_drug.csv',index=False)"
   ]
  },
  {
   "cell_type": "markdown",
   "metadata": {},
   "source": [
    "# Procedures"
   ]
  },
  {
   "cell_type": "code",
   "execution_count": 29,
   "metadata": {},
   "outputs": [],
   "source": [
    "# Load procedures file : this file contains patient_id, claim_date, procedure code and ICD code flag\n",
    "f ='final_proc_all'\n",
    "proc = pd.read_csv(in_path + f + '.csv', delimiter = '\\t', low_memory = False)"
   ]
  },
  {
   "cell_type": "code",
   "execution_count": 30,
   "metadata": {},
   "outputs": [],
   "source": [
    "proc['encounter_id'] = proc.patid.astype(str)+'_'+proc.fst_dt.astype(str)"
   ]
  },
  {
   "cell_type": "code",
   "execution_count": 31,
   "metadata": {},
   "outputs": [],
   "source": [
    "mod_proc_list = []\n",
    "for proc_code in proc.proc:\n",
    "    new_code = 'P_' + 'I_' + proc_code.replace('.', '')\n",
    "    mod_proc_list.append(new_code)\n",
    "proc['mod_proc_code'] = mod_proc_list\n",
    "\n",
    "cl = ['patid', 'encounter_id', 'mod_proc_code']\n",
    "proc.to_csv(ot_path + 'mod_proc.csv', index=False)"
   ]
  }
 ],
 "metadata": {
  "kernelspec": {
   "display_name": "Python 3 (ipykernel)",
   "language": "python",
   "name": "python3"
  },
  "language_info": {
   "codemirror_mode": {
    "name": "ipython",
    "version": 3
   },
   "file_extension": ".py",
   "mimetype": "text/x-python",
   "name": "python",
   "nbconvert_exporter": "python",
   "pygments_lexer": "ipython3",
   "version": "3.9.16"
  },
  "vscode": {
   "interpreter": {
    "hash": "e0cf8167c65af4f234d6de070fb235c8ad0cb68774ad0f42b9c4f4ad911cdddd"
   }
  }
 },
 "nbformat": 4,
 "nbformat_minor": 4
}
